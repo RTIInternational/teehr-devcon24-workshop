{
 "cells": [
  {
   "cell_type": "markdown",
   "id": "2260b5a5-efbb-4ef5-8753-56279fb07a2d",
   "metadata": {},
   "source": [
    "Install TEEHR"
   ]
  },
  {
   "cell_type": "markdown",
   "id": "c9bc7de7-c343-4f62-b0f3-ae7c0da9e99a",
   "metadata": {},
   "source": [
    "`pip install --user 'teehr @ git+https://github.com/RTIInternational/teehr@main'`"
   ]
  },
  {
   "cell_type": "code",
   "execution_count": null,
   "id": "becfeea8-fca6-4d7f-99ec-9ccb2530d341",
   "metadata": {},
   "outputs": [],
   "source": [
    "pip install --user 'teehr @ git+https://github.com/RTIInternational/teehr@main'"
   ]
  }
 ],
 "metadata": {
  "kernelspec": {
   "display_name": "Python 3 (ipykernel)",
   "language": "python",
   "name": "python3"
  },
  "language_info": {
   "codemirror_mode": {
    "name": "ipython",
    "version": 3
   },
   "file_extension": ".py",
   "mimetype": "text/x-python",
   "name": "python",
   "nbconvert_exporter": "python",
   "pygments_lexer": "ipython3",
   "version": "3.11.8"
  }
 },
 "nbformat": 4,
 "nbformat_minor": 5
}
